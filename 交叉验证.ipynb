{
 "cells": [
  {
   "cell_type": "markdown",
   "id": "3bf666aa-df0b-4e30-bb82-ddc03a3fadd0",
   "metadata": {},
   "source": [
    "### 优点\n",
    "交叉验证可以验证模型多次，减少了模型误差中的偏差，验证集精度更加可信。<br>\n",
    "交叉验证可以得到多个模型，在测试集上可以进行多次预测，增加预测结果的多样性。"
   ]
  },
  {
   "cell_type": "markdown",
   "id": "b97befa6-832b-480e-80d8-d1d2ca7848f1",
   "metadata": {},
   "source": [
    "## 常见错误\n",
    "### 错误1：选择错误的折数\n",
    "k需要人工设置，一般设置为5。K值越小，模型训练次数越少，但模型验证集精度的偏差更大。K值越大，模型训练的次数越多，需要更多的计算量，但模型验证集的偏差更小。但K值极少数会大于10。\n",
    "\n",
    "### 错误2：数据分布不同\n",
    "训练集和验证集分布应保持一致。建议用StratifiedKFold代替KFold。<br>\n",
    "> KFold：最基本的K折交叉验证，不受class和group的影响。<br>\n",
    "> StratifiedKFold：根据数据集的**类别**占比分布来划分训练集和验证集，使得划分后的数据集的类别占比和原始数据集近似。<br>\n",
    "> GroupKFold: **保证同一个group的数据不会同时出现在训练集和验证集上**。因为如果训练集中包含了每个group的几个样例，可能训练得到的模型能够足够灵活地从这些样例中学习到特征，在验证集上也会表现很好。但一旦遇到一个新的group它就会表现很差。\n",
    "> StratifiedGroupKfold：**要求数据集划分时既要考虑类别占比大致不变，又要保证同一个group的数据不能同时出现在训练集和验证集上**。"
   ]
  },
  {
   "cell_type": "code",
   "execution_count": 12,
   "id": "a489417f-5259-4c29-8ab4-a9450966d105",
   "metadata": {},
   "outputs": [],
   "source": [
    "import numpy as np\n",
    "X = np.array([[1, 2], [3, 4], [1, 2], [3, 4]])\n",
    "y = np.array([0, 0, 1, 1])"
   ]
  },
  {
   "cell_type": "code",
   "execution_count": 6,
   "id": "02372740-baac-475b-8f5b-ea6b4ade128f",
   "metadata": {},
   "outputs": [
    {
     "name": "stdout",
     "output_type": "stream",
     "text": [
      "2\n",
      "TRAIN: [2 3] TEST: [0 1]\n",
      "TRAIN: [0 1] TEST: [2 3]\n"
     ]
    }
   ],
   "source": [
    "from sklearn.model_selection import KFold\n",
    "kf = KFold(n_splits=2)\n",
    "print(kf.get_n_splits(X))  # 2折\n",
    "for train_index, test_index in kf.split(X):\n",
    "    print(\"TRAIN:\", train_index, \"TEST:\", test_index)\n",
    "    X_train, X_test = X[train_index], X[test_index]\n",
    "    y_train, y_test = y[train_index], y[test_index]"
   ]
  },
  {
   "cell_type": "code",
   "execution_count": 14,
   "id": "c4bdc408-5e91-4ea4-9a25-51861882e9fc",
   "metadata": {},
   "outputs": [
    {
     "name": "stdout",
     "output_type": "stream",
     "text": [
      "TRAIN: [1 3] TEST: [0 2]\n",
      "TRAIN: [0 2] TEST: [1 3]\n"
     ]
    }
   ],
   "source": [
    "from sklearn.model_selection import StratifiedKFold\n",
    "skf = StratifiedKFold(n_splits=2)\n",
    "for train_index, test_index in skf.split(X, y):\n",
    "    print(\"TRAIN:\", train_index, \"TEST:\", test_index)\n",
    "    X_train, X_test = X[train_index], X[test_index]\n",
    "    y_train, y_test = y[train_index], y[test_index] # 同一类别的样本同时出现在训练集和验证集上"
   ]
  },
  {
   "cell_type": "code",
   "execution_count": 15,
   "id": "36c9573c-1fc9-4893-86f4-a0b73d371a26",
   "metadata": {},
   "outputs": [
    {
     "name": "stdout",
     "output_type": "stream",
     "text": [
      "[0 1 2 3 4 5] [6 7 8 9]\n",
      "[0 1 2 6 7 8 9] [3 4 5]\n",
      "[3 4 5 6 7 8 9] [0 1 2]\n"
     ]
    }
   ],
   "source": [
    "from sklearn.model_selection import GroupKFold\n",
    " \n",
    "X = [0.1, 0.2, 2.2, 2.4, 2.3, 4.55, 5.8, 8.8, 9, 10]\n",
    "y = [\"a\", \"b\", \"b\", \"b\", \"c\", \"c\", \"c\", \"d\", \"d\", \"d\"]\n",
    "groups = [1, 1, 1, 2, 2, 2, 3, 3, 3, 3]\n",
    " \n",
    "gkf = GroupKFold(n_splits=3)\n",
    "for train, test in gkf.split(X, y, groups=groups):\n",
    "    print(\"%s %s\" % (train, test)) # 同一个组的样本不会同时出现在训练集和验证集上"
   ]
  },
  {
   "cell_type": "code",
   "execution_count": 1,
   "id": "ec297d35-ef1b-4f3d-93a3-9e78aece3c56",
   "metadata": {},
   "outputs": [
    {
     "name": "stdout",
     "output_type": "stream",
     "text": [
      "[ 0  2  3  4  5  6  7 10 11 15 16 17] [ 1  8  9 12 13 14]\n",
      "[ 0  1  4  5  6  7  8  9 11 12 13 14] [ 2  3 10 15 16 17]\n",
      "[ 1  2  3  8  9 10 12 13 14 15 16 17] [ 0  4  5  6  7 11]\n"
     ]
    }
   ],
   "source": [
    "from sklearn.model_selection import StratifiedGroupKFold # 导入报错更新下：conda update scikit-learn\n",
    "X = list(range(18))\n",
    "y = [1] * 6 + [0] * 12\n",
    "groups = [1, 2, 3, 3, 4, 4, 1, 1, 2, 2, 3, 4, 5, 5, 5, 6, 6, 6]\n",
    "sgkf = StratifiedGroupKFold(n_splits=3)\n",
    "for train, test in sgkf.split(X, y, groups=groups):\n",
    "    print(\"%s %s\" % (train, test))"
   ]
  },
  {
   "cell_type": "markdown",
   "id": "dab8a157-5fdd-4d5c-9657-e8450379a969",
   "metadata": {},
   "source": [
    "### 错误3：数据划分后采样\n",
    "\n",
    "对验证集不进行任何采样，因为验证集本身是验证模型的精度，用来反应模型的泛化能力。如果采样是必不可少的一步，还是推荐**先采样再划分验证集**，这样至少训练集和验证集是同分布的。"
   ]
  },
  {
   "cell_type": "code",
   "execution_count": null,
   "id": "158a3d2c-209c-4a0e-981d-78b4e3fa4296",
   "metadata": {},
   "outputs": [],
   "source": [
    "kfold = KFold(n_splits=n_splits)\n",
    "scores = []\n",
    "for train,valid in kfold.split(data): # 原数据先划分训练和验证\n",
    "        train_oversampled = oversample_function(train) # 对训练数据做上采样，验证集不动\n",
    "        score = train_and_validate(train_oversampled,valid)\n",
    "        scores.append(score)"
   ]
  },
  {
   "cell_type": "markdown",
   "id": "27ddfcd9-1fde-4c99-9095-b89151c21e3c",
   "metadata": {
    "tags": []
   },
   "source": [
    "### 错误4：过拟合验证集\n",
    "特征工程中将训练集和测试集拼接在一起做处理，再计算标签编码，然后划分验证集，会泄露标签的信息，导致验证集精度虚高。**正确的做法是先将数据集划分训练集和验证集，在训练集上计算标签编码，然后在验证集上进行映射。不应该使用验证集进行任何的特征提取和转换过程。**\n",
    "\n",
    "### 错误5：乱序的时序划分\n",
    "推荐用**TimeSeriesSplit**。在时序特征中，滞后特征是非常有效的一类，但也经常会泄露验证集信息。**滞后特征应该在划分验证集之后，再进行操作**。\n",
    "\n",
    "### 错误6：数据划分的随机性\n",
    "在划分数据集时可以考虑**设置随机种子**，然后就可以固定数据划分的逻辑。"
   ]
  },
  {
   "cell_type": "code",
   "execution_count": null,
   "id": "24d5a4e9-91ab-48e9-852d-b0c8a55d4e0a",
   "metadata": {
    "tags": []
   },
   "outputs": [],
   "source": [
    "SEEDS = [1, 2, 3, 4, 5]\n",
    "ScoreMetric = []\n",
    "\n",
    "for seed in SEEDS:\n",
    "    seed_all(seed) # 设置所有seed\n",
    "    kfold = KFold(n_splits=5, random_state=seed)\n",
    "    scores = []\n",
    "    for train,valid in kfold.split(data):\n",
    "        score = train_and_validate(train,valid)\n",
    "        scores.append(score)\n",
    "\n",
    "    ScoreMetric.append(scores)"
   ]
  }
 ],
 "metadata": {
  "kernelspec": {
   "display_name": "Python 3 (ipykernel)",
   "language": "python",
   "name": "python3"
  },
  "language_info": {
   "codemirror_mode": {
    "name": "ipython",
    "version": 3
   },
   "file_extension": ".py",
   "mimetype": "text/x-python",
   "name": "python",
   "nbconvert_exporter": "python",
   "pygments_lexer": "ipython3",
   "version": "3.9.7"
  }
 },
 "nbformat": 4,
 "nbformat_minor": 5
}
